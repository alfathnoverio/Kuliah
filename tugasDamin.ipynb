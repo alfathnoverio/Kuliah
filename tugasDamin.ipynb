{
 "cells": [
  {
   "cell_type": "code",
   "execution_count": 249,
   "metadata": {
    "scrolled": true
   },
   "outputs": [
    {
     "data": {
      "image/png": "[encoded data removed]",
      "text/plain": [
       "<Figure size 360x360 with 1 Axes>"
      ]
     },
     "metadata": {
      "needs_background": "light"
     },
     "output_type": "display_data"
    }
   ],
   "source": [
    "## inisialisasi\n",
    "\n",
    "# library\n",
    "import pandas as pd\n",
    "import numpy as np\n",
    "import matplotlib.pyplot as plt\n",
    "%matplotlib inline\n",
    "\n",
    "# data baru dengan cara random\n",
    "jumlahData = 20\n",
    "\n",
    "def dataRandom():\n",
    "    x = []\n",
    "    y = []\n",
    "    for i in range(jumlahData):\n",
    "        x.append(np.random.randint(0, 80))\n",
    "        y.append(np.random.randint(0, 80))\n",
    "    return x,y\n",
    "\n",
    "x,y = dataRandom()\n",
    "\n",
    "data = pd.DataFrame({\n",
    "    'x': x,\n",
    "    'y': y\n",
    "})\n",
    "\n",
    "# data awal\n",
    "\"\"\"\n",
    "data = pd.DataFrame({\n",
    "    'x': [12, 20, 28, 18, 29, 33, 24, 45, 45, 52, 51, 52, 55, 53, 55, 61, 64, 69, 72],\n",
    "    'y': [39, 36, 30, 52, 54, 46, 55, 49, 63, 70, 66, 63, 58, 23, 14, 8, 19, 7, 24]\n",
    "})\n",
    "\"\"\"\n",
    "\n",
    "np.random.seed(200)\n",
    "k = 3\n",
    "# centroids[i] [x,y]\n",
    "centroids = {\n",
    "    i+1: [np.random.randint(0, 80), np.random.randint(0, 80)]\n",
    "    for i in range(k)\n",
    "}\n",
    "\n",
    "fig = plt.figure(figsize=(5, 5))\n",
    "plt.scatter(data['x'], data['y'], color='#808080')\n",
    "warna = {1: '#ff7f7f', 2: '#80ff80', 3: '#807fff'}\n",
    "\n",
    "def buatPlot():\n",
    "    for i in centroids.keys():\n",
    "        plt.scatter(*centroids[i], color=warna[i])\n",
    "    plt.xlim(0,80)\n",
    "    plt.ylim(0,80)\n",
    "    plt.show()\n",
    "    \n",
    "buatPlot()\n",
    "## Alfath Noverio\n",
    "## 1301174449\n",
    "## SIDE GAB 01"
   ]
  },
  {
   "cell_type": "code",
   "execution_count": 251,
   "metadata": {},
   "outputs": [
    {
     "name": "stdout",
     "output_type": "stream",
     "text": [
      "    x   y  Jarak dari 1  Jarak dari 2  Jarak dari 3  dekat    color\n",
      "0  21  12      6.403124     55.758407     72.470684      1  #ff7f7f\n",
      "1  42  45     33.120990     26.172505     33.615473      2  #80ff80\n",
      "2  15  55     40.521599     54.571055     45.177428      1  #ff7f7f\n",
      "3  50  15     24.020824     32.449961     61.204575      1  #ff7f7f\n",
      "4  61  42     43.600459      7.000000     34.525353      2  #80ff80\n"
     ]
    },
    {
     "data": {
      "image/png": "[encoded data removed]",
      "text/plain": [
       "<Figure size 360x360 with 1 Axes>"
      ]
     },
     "metadata": {
      "needs_background": "light"
     },
     "output_type": "display_data"
    }
   ],
   "source": [
    "## pembagian\n",
    "\n",
    "def assignment(data, centroids):\n",
    "    for i in centroids.keys():\n",
    "        # rumus = sqrt((x1 - x2) - (y1 - y2)^2)\n",
    "        data['Jarak dari {}'.format(i)] = (\n",
    "            np.sqrt(\n",
    "                (data['x'] - centroids[i][0]) ** 2\n",
    "                + (data['y'] - centroids[i][1]) ** 2\n",
    "            )\n",
    "        )\n",
    "    jarakCentroid = ['Jarak dari {}'.format(i) for i in centroids.keys()]\n",
    "    data['dekat'] = data.loc[:, jarakCentroid].idxmin(axis=1)\n",
    "    data['dekat'] = data['dekat'].map(lambda x: int(x.lstrip('Jarak dari')))\n",
    "    data['color'] = data['dekat'].map(lambda x: warna[x])\n",
    "    return data\n",
    "\n",
    "data = assignment(data,centroids)\n",
    "print(data.head())\n",
    "\n",
    "fig = plt.figure(figsize=(5, 5))\n",
    "plt.scatter(data['x'], data['y'], color=data['color'], alpha=0.5, edgecolor='#808080')\n",
    "\n",
    "buatPlot()\n",
    "## Alfath Noverio\n",
    "## 1301174449\n",
    "## SIDE GAB 01"
   ]
  },
  {
   "cell_type": "code",
   "execution_count": 252,
   "metadata": {},
   "outputs": [
    {
     "data": {
      "image/png": "[encoded data removed]",
      "text/plain": [
       "<Figure size 360x360 with 1 Axes>"
      ]
     },
     "metadata": {
      "needs_background": "light"
     },
     "output_type": "display_data"
    }
   ],
   "source": [
    "## ubah centroids\n",
    "\n",
    "import copy\n",
    "\n",
    "centroidsLama = copy.deepcopy(centroids)\n",
    "\n",
    "def ubah(k):\n",
    "    for i in centroids.keys():\n",
    "        centroids[i][0] = np.mean(data[data['dekat'] == i]['x'])\n",
    "        centroids[i][1] = np.mean(data[data['dekat'] == i]['y'])\n",
    "    return k\n",
    "\n",
    "centroids = ubah(centroids)\n",
    "\n",
    "fig = plt.figure(figsize=(5, 5))\n",
    "ax = plt.axes()\n",
    "plt.scatter(data['x'], data['y'], color=data['color'], alpha=0.5, edgecolor='#808080')\n",
    "for i in centroids.keys():\n",
    "    plt.scatter(*centroids[i], color=warna[i])\n",
    "plt.xlim(0,80)\n",
    "plt.ylim(0,80)\n",
    "for i in centroidsLama.keys():\n",
    "    xLama = centroidsLama[i][0]\n",
    "    yLama = centroidsLama[i][1]\n",
    "    dx = (centroids[i][0] - centroidsLama[i][0]) * 0.75\n",
    "    dy = (centroids[i][1] - centroidsLama[i][1]) * 0.75\n",
    "    ax.arrow(xLama, yLama, dx, dy, head_width=2, head_length=3, fc=warna[i], ec=warna[i])\n",
    "plt.show()\n",
    "## Alfath Noverio\n",
    "## 1301174449\n",
    "## SIDE GAB 01"
   ]
  },
  {
   "cell_type": "code",
   "execution_count": 253,
   "metadata": {},
   "outputs": [
    {
     "data": {
      "image/png": "[encoded data removed]",
      "text/plain": [
       "<Figure size 360x360 with 1 Axes>"
      ]
     },
     "metadata": {
      "needs_background": "light"
     },
     "output_type": "display_data"
    }
   ],
   "source": [
    "## looping perubahan\n",
    "\n",
    "data = assignment(data, centroids)\n",
    "\n",
    "# hasil\n",
    "fig = plt.figure(figsize=(5, 5))\n",
    "plt.scatter(data['x'], data['y'], color=data['color'], alpha=0.5, edgecolor='#808080')\n",
    "\n",
    "buatPlot()\n",
    "## Alfath Noverio\n",
    "## 1301174449\n",
    "## SIDE GAB 01"
   ]
  },
  {
   "cell_type": "code",
   "execution_count": 254,
   "metadata": {},
   "outputs": [
    {
     "data": {
      "image/png": "[encoded data removed]",
      "text/plain": [
       "<Figure size 360x360 with 1 Axes>"
      ]
     },
     "metadata": {
      "needs_background": "light"
     },
     "output_type": "display_data"
    }
   ],
   "source": [
    "# mencari nilai centroids hingga tidak ada perubahan\n",
    "\n",
    "while True:\n",
    "    centroidsTerdekat = data['dekat'].copy(deep=True)\n",
    "    centroids = ubah(centroids)\n",
    "    data = assignment(data,centroids)\n",
    "    if centroidsTerdekat.equals(data['dekat']):\n",
    "        break\n",
    "        \n",
    "fig = plt.figure(figsize=(5, 5))\n",
    "plt.scatter(data['x'], data['y'], color=data['color'], alpha=0.5, edgecolor='#808080')\n",
    "\n",
    "buatPlot()\n",
    "## Alfath Noverio\n",
    "## 1301174449\n",
    "## SIDE GAB 01"
   ]
  },
  {
   "cell_type": "code",
   "execution_count": 255,
   "metadata": {},
   "outputs": [
    {
     "data": {
      "text/plain": [
       "KMeans(algorithm='auto', copy_x=True, init='k-means++', max_iter=300,\n",
       "       n_clusters=3, n_init=10, n_jobs=None, precompute_distances='auto',\n",
       "       random_state=None, tol=0.0001, verbose=0)"
      ]
     },
     "execution_count": 255,
     "metadata": {},
     "output_type": "execute_result"
    }
   ],
   "source": [
    "data = pd.DataFrame({\n",
    "    'x': [12, 20, 28, 18, 29, 33, 24, 45, 45, 52, 51, 52, 55, 53, 55, 61, 64, 69, 72],\n",
    "    'y': [39, 36, 30, 52, 54, 46, 55, 49, 63, 70, 66, 63, 58, 23, 14, 8, 19, 7, 24]\n",
    "})\n",
    "\n",
    "from sklearn.cluster import KMeans\n",
    "\n",
    "kmeans = KMeans(n_clusters=3)\n",
    "kmeans.fit(data)\n",
    "## Alfath Noverio\n",
    "## 1301174449\n",
    "## SIDE GAB 01"
   ]
  },
  {
   "cell_type": "code",
   "execution_count": 256,
   "metadata": {},
   "outputs": [],
   "source": [
    "labels = kmeans.predict(data)\n",
    "centroids = kmeans.cluster_centers_\n",
    "## Alfath Noverio\n",
    "## 1301174449\n",
    "## SIDE GAB 01"
   ]
  },
  {
   "cell_type": "code",
   "execution_count": null,
   "metadata": {},
   "outputs": [],
   "source": []
  }
 ],
 "metadata": {
  "kernelspec": {
   "display_name": "Python 3",
   "language": "python",
   "name": "python3"
  },
  "language_info": {
   "codemirror_mode": {
    "name": "ipython",
    "version": 3
   },
   "file_extension": ".py",
   "mimetype": "text/x-python",
   "name": "python",
   "nbconvert_exporter": "python",
   "pygments_lexer": "ipython3",
   "version": "3.7.3"
  }
 },
 "nbformat": 4,
 "nbformat_minor": 2
}
